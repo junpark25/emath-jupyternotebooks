{
 "cells": [
  {
   "cell_type": "markdown",
   "metadata": {},
   "source": [
    "지우가 확률을 재미없어 한다는 얘기를 듣고 아빠는 고민에 빠졌어.  아빠의 전공이 확률인데, 그리고 확률이 얼마나 흥미진진한 분야인데 우리 딸이 그렇게 생각을 하게 되었을까?  딱딱한 문제 풀이나 의미없어 보이는 공식의 나열 말고 살아있고 재미있는 확률을 지우에게 소개해 줄 수 없을까?  이런 생각 끝에 한번 확률에 관해서 지우에게 편지를 써보려고 해.  시간 되면, 아니 시간 내서 꼭 읽어주길 바래. \n",
    "<br><br>\n",
    "첫번째 편지\n",
    "<br>\n",
    "어디서부터 시작하면 좋을까? 우선 확률에 대해서 얘기하기 전에 파이썬을 조금 공부해보자. 파이썬을 이용하면 확률을 사용해서 재미있는 문제들을 만들어 볼 수 있어.  다음 셀에 있는 명령들을 실행해봐. 실행은 셀을 클릭하고 shift랑 return을 누르면 돼."
   ]
  },
  {
   "cell_type": "code",
   "execution_count": 1,
   "metadata": {},
   "outputs": [
    {
     "name": "stdout",
     "output_type": "stream",
     "text": [
      "0.7421058270123919\n"
     ]
    }
   ],
   "source": [
    "import random                # 랜덤 모듈 부르기\n",
    "print(random.random())       # random 함수"
   ]
  },
  {
   "cell_type": "markdown",
   "metadata": {},
   "source": [
    "첫째 줄은 다양한 랜덤 함수를 모아 놓은 랜덤 모듈을 부르는 명령이야.  이걸 한번 불러놔야 거기 있는 여러 함수를 쓸 수 있어.  두번째 줄은 랜덤 모듈에 있는 랜덤 함수를 사용한 거야.  random.random()은 랜덤 모듈에 있는 랜덤 함수를 부르는 명령이야. 이름이 같아서 헷갈리지만 두개는 서로 다른 거야. 처음 random은 모듈을 가리키고 두번째 random은 함수를 가리켜.  그리고 이 함수는 0에서 1사이의 숫자를 무작위로 뽑아내서 돌려줘.  print는 뽑아낸 수를 출력하라는 명령이고.  동일한 명령을 다시 실행시키면 어떤 값을 출력할까?  위에서와 같은 값일까? 한번 해보자. (여러번 해봐도 좋아^^.)"
   ]
  },
  {
   "cell_type": "code",
   "execution_count": 3,
   "metadata": {},
   "outputs": [
    {
     "name": "stdout",
     "output_type": "stream",
     "text": [
      "0.30045491256108436\n"
     ]
    }
   ],
   "source": [
    "print(random.random())"
   ]
  },
  {
   "cell_type": "markdown",
   "metadata": {},
   "source": [
    "이번에 살펴볼 함수는 randint야. 이 함수는 위의 random함수와는 달리 괄호 사이에 두 개의 숫자를 써줘야 해.  그러면 그 두 숫자와 그 사이의 숫자 중에서 무작위로 하나를 뽑아내지. 주사위 던지기 실험을 하고 싶다면 다음과 같이 넣으면 돼."
   ]
  },
  {
   "cell_type": "code",
   "execution_count": 25,
   "metadata": {},
   "outputs": [
    {
     "name": "stdout",
     "output_type": "stream",
     "text": [
      "3\n"
     ]
    }
   ],
   "source": [
    "print(random.randint(1,6))   # randint 함수"
   ]
  },
  {
   "cell_type": "code",
   "execution_count": 18,
   "metadata": {},
   "outputs": [
    {
     "data": {
      "text/plain": [
       "range(7, 0)"
      ]
     },
     "execution_count": 18,
     "metadata": {},
     "output_type": "execute_result"
    }
   ],
   "source": [
    "range(7,0)"
   ]
  },
  {
   "cell_type": "code",
   "execution_count": 22,
   "metadata": {},
   "outputs": [
    {
     "name": "stdout",
     "output_type": "stream",
     "text": [
      "7\n",
      "2\n",
      "-3\n",
      "-8\n"
     ]
    },
    {
     "data": {
      "text/plain": [
       "[None, None, None, None]"
      ]
     },
     "execution_count": 22,
     "metadata": {},
     "output_type": "execute_result"
    }
   ],
   "source": [
    "[print(k) for k in range(7,-9,-5)]"
   ]
  },
  {
   "cell_type": "code",
   "execution_count": 16,
   "metadata": {},
   "outputs": [
    {
     "name": "stdout",
     "output_type": "stream",
     "text": [
      "0\n",
      "2\n",
      "4\n",
      "6\n",
      "8\n",
      "10\n",
      "12\n",
      "14\n",
      "16\n",
      "18\n"
     ]
    }
   ],
   "source": [
    "for j in range(0,20,2):\n",
    "    print(j)"
   ]
  },
  {
   "cell_type": "code",
   "execution_count": 83,
   "metadata": {},
   "outputs": [
    {
     "name": "stdout",
     "output_type": "stream",
     "text": [
      "k= 0 !\n",
      "3\n",
      "k= 1 !\n",
      "2\n",
      "k= 2 !\n",
      "3\n",
      "k= 3 !\n",
      "3\n",
      "k= 4 !\n",
      "2\n",
      "k= 5 !\n",
      "6\n",
      "k= 6 !\n",
      "6\n"
     ]
    }
   ],
   "source": [
    "for k in range(7):\n",
    "    print(\"k=\", k, \"!\")\n",
    "    print(random.randint(1,6))"
   ]
  },
  {
   "cell_type": "code",
   "execution_count": 27,
   "metadata": {},
   "outputs": [
    {
     "name": "stdout",
     "output_type": "stream",
     "text": [
      "k= 1 !\n",
      "1\n",
      "k= 1 !\n",
      "4\n",
      "k= 6 !\n",
      "6\n",
      "k= 8 !\n",
      "1\n"
     ]
    }
   ],
   "source": [
    "for k in [1,1,6,8]:\n",
    "    print(\"k=\", k, \"!\")\n",
    "    print(random.randint(1,6))"
   ]
  },
  {
   "cell_type": "markdown",
   "metadata": {},
   "source": [
    "자, 이제 확률 문제를 하나 풀어보자.  주사위를 던질 때 1이 나올 확률이 어떻게 되지?  맞아 1/6.  이 말은 주사위를 계속 던지면 여섯번 중에 한번은 1이 나온다는 얘기지.  그럼 실제로 그럴까?  이걸 확인하기 위해 주사위를 계속 던질 필요는 없어^^.  컴퓨터한데 시키면 되지."
   ]
  },
  {
   "cell_type": "code",
   "execution_count": 38,
   "metadata": {},
   "outputs": [
    {
     "name": "stdout",
     "output_type": "stream",
     "text": [
      "0.09\n"
     ]
    }
   ],
   "source": [
    "sum = 0\n",
    "N = 100\n",
    "for k in range(N):\n",
    "    if random.randint(1,6) == 1:\n",
    "        sum = sum + 1\n",
    "#         sum += 1\n",
    "print(sum/N)"
   ]
  },
  {
   "cell_type": "code",
   "execution_count": 33,
   "metadata": {},
   "outputs": [
    {
     "data": {
      "text/plain": [
       "0.16666666666666666"
      ]
     },
     "execution_count": 33,
     "metadata": {},
     "output_type": "execute_result"
    }
   ],
   "source": [
    "1/6"
   ]
  },
  {
   "cell_type": "code",
   "execution_count": 34,
   "metadata": {},
   "outputs": [
    {
     "name": "stdout",
     "output_type": "stream",
     "text": [
      "55\n"
     ]
    }
   ],
   "source": [
    "sum = 0\n",
    "for k in range(10):\n",
    "    sum = sum + k+1\n",
    "print(sum)"
   ]
  },
  {
   "cell_type": "code",
   "execution_count": 35,
   "metadata": {},
   "outputs": [
    {
     "name": "stdout",
     "output_type": "stream",
     "text": [
      "3\n"
     ]
    }
   ],
   "source": [
    "sum = 0\n",
    "for k in [1, 2]:\n",
    "    sum = sum + k\n",
    "print(sum)"
   ]
  },
  {
   "cell_type": "code",
   "execution_count": 39,
   "metadata": {},
   "outputs": [],
   "source": [
    "def dice(num_roll, value):\n",
    "    sum = 0\n",
    "    N = num_roll\n",
    "    for k in range(num_roll):\n",
    "        if random.randint(1,6) == value:\n",
    "            sum += 1\n",
    "    return sum/N"
   ]
  },
  {
   "cell_type": "code",
   "execution_count": 40,
   "metadata": {},
   "outputs": [
    {
     "data": {
      "text/plain": [
       "0.13"
      ]
     },
     "execution_count": 40,
     "metadata": {},
     "output_type": "execute_result"
    }
   ],
   "source": [
    "dice(100,1)"
   ]
  },
  {
   "cell_type": "code",
   "execution_count": 44,
   "metadata": {},
   "outputs": [
    {
     "name": "stdout",
     "output_type": "stream",
     "text": [
      "0.3\n",
      "0.19\n",
      "0.161\n",
      "0.1656\n",
      "0.16885\n",
      "0.166322\n"
     ]
    }
   ],
   "source": [
    "N = [10, 100, 1000, 10000, 100000, 1000000]\n",
    "for num_roll in N:\n",
    "    print(dice(num_roll, 1))"
   ]
  },
  {
   "cell_type": "code",
   "execution_count": 50,
   "metadata": {},
   "outputs": [],
   "source": [
    "N = [10, 100, 1000, 10000, 100000, 1000000, 10000000]\n",
    "p = [dice(num_roll, 1) for num_roll in N]"
   ]
  },
  {
   "cell_type": "code",
   "execution_count": 47,
   "metadata": {},
   "outputs": [
    {
     "name": "stdout",
     "output_type": "stream",
     "text": [
      "[0.1, 0.15, 0.168, 0.161, 0.16752, 0.166477, 0.1668374]\n"
     ]
    }
   ],
   "source": [
    "print(p)"
   ]
  },
  {
   "cell_type": "code",
   "execution_count": 51,
   "metadata": {},
   "outputs": [
    {
     "data": {
      "image/png": "[encoded data removed]",
      "text/plain": [
       "<Figure size 432x288 with 1 Axes>"
      ]
     },
     "metadata": {
      "needs_background": "light"
     },
     "output_type": "display_data"
    }
   ],
   "source": [
    "%matplotlib inline\n",
    "\n",
    "import matplotlib.pyplot as plt\n",
    "import numpy as np\n",
    "\n",
    "plt.plot(N, p)\n",
    "# plt.plot(N, [1/6]*len(N), 'r')\n",
    "plt.show()"
   ]
  },
  {
   "cell_type": "code",
   "execution_count": null,
   "metadata": {},
   "outputs": [],
   "source": []
  },
  {
   "cell_type": "code",
   "execution_count": 52,
   "metadata": {},
   "outputs": [
    {
     "data": {
      "image/png": "[encoded data removed]",
      "text/plain": [
       "<Figure size 432x288 with 1 Axes>"
      ]
     },
     "metadata": {
      "needs_background": "light"
     },
     "output_type": "display_data"
    }
   ],
   "source": [
    "%matplotlib inline\n",
    "\n",
    "import matplotlib.pyplot as plt\n",
    "import numpy as np\n",
    "\n",
    "plt.plot(np.log10(N), p)\n",
    "plt.plot(np.log10(N), [1/6]*len(N), 'r')\n",
    "plt.show()"
   ]
  },
  {
   "cell_type": "code",
   "execution_count": 54,
   "metadata": {},
   "outputs": [
    {
     "data": {
      "text/plain": [
       "'가위'"
      ]
     },
     "execution_count": 54,
     "metadata": {},
     "output_type": "execute_result"
    }
   ],
   "source": [
    "random.choice(['가위','바위','보'])"
   ]
  },
  {
   "cell_type": "code",
   "execution_count": null,
   "metadata": {},
   "outputs": [],
   "source": []
  }
 ],
 "metadata": {
  "kernelspec": {
   "display_name": "Python 3",
   "language": "python",
   "name": "python3"
  },
  "language_info": {
   "codemirror_mode": {
    "name": "ipython",
    "version": 3
   },
   "file_extension": ".py",
   "mimetype": "text/x-python",
   "name": "python",
   "nbconvert_exporter": "python",
   "pygments_lexer": "ipython3",
   "version": "3.7.2"
  }
 },
 "nbformat": 4,
 "nbformat_minor": 2
}
