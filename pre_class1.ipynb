{
 "cells": [
  {
   "cell_type": "code",
   "execution_count": 2,
   "metadata": {
    "collapsed": true
   },
   "outputs": [],
   "source": [
    "%matplotlib inline\n",
    "import numpy as np\n",
    "import matplotlib.pyplot as plt"
   ]
  },
  {
   "cell_type": "code",
   "execution_count": 3,
   "metadata": {
    "collapsed": false
   },
   "outputs": [],
   "source": [
    "def forwardEuler(f,t0,dt,tf,y0):\n",
    "    \"\"\" forwardEuler uses the Euler algorithm to solve \n",
    "        the following initial value problem (IVP)\n",
    "            \n",
    "            y' = f(t, y)      ODE\n",
    "            y(t0) = y0        IC\n",
    "    \n",
    "    f is the fuction on the right-hand side of the ODE\n",
    "    t0 is the starting time\n",
    "    dt is the timestep\n",
    "    tf is the ending time\n",
    "    y0 is the initial state of y\n",
    "    \n",
    "    This routine returns a tuple of the form (t, y)\n",
    "    where t is a list of all of the times from t0 to tf\n",
    "    in steps of dt \"\"\"\n",
    "    t = []\n",
    "    y = []\n",
    "    t.append(t0)\n",
    "    y.append(y0)\n",
    "    n = int((tf - t0)/dt) \n",
    "    \n",
    "    for i in range(n):\n",
    "        ytemp = y[i] + f(t[i],y[i])*dt\n",
    "        ttemp = t[i] + dt\n",
    "\n",
    "        y.append(ytemp)\n",
    "        t.append(ttemp)\n",
    "    return np.array(t), np.array(y)"
   ]
  },
  {
   "cell_type": "markdown",
   "metadata": {},
   "source": [
    "### Example 1.\n",
    "$$ y' = y + t $$\n",
    "$$ y(0) = 1 $$"
   ]
  },
  {
   "cell_type": "code",
   "execution_count": 4,
   "metadata": {
    "collapsed": false
   },
   "outputs": [],
   "source": [
    "def f1(t,y):\n",
    "    return y + t"
   ]
  },
  {
   "cell_type": "code",
   "execution_count": 17,
   "metadata": {
    "collapsed": false
   },
   "outputs": [
    {
     "data": {
      "image/png": "[encoded data removed]",
      "text/plain": [
       "<Figure size 432x288 with 1 Axes>"
      ]
     },
     "metadata": {
      "needs_background": "light"
     },
     "output_type": "display_data"
    }
   ],
   "source": [
    "t, y = forwardEuler(f1,0,0.3,1,1)\n",
    "\n",
    "plt.plot(t, y, label='Euler')                         # numerical solution\n",
    "tt = np.linspace(t[0],t[-1],50)\n",
    "plt.plot(tt, -1 - tt + 2*np.exp(tt), label='Exact')   # exact solution\n",
    "plt.legend()\n",
    "plt.xlabel('t')\n",
    "plt.ylabel('y')\n",
    "plt.show()"
   ]
  },
  {
   "cell_type": "markdown",
   "metadata": {},
   "source": [
    "### Example (Try)\n",
    "$$ (t^2 - 12t +20) \\frac{dy}{dt} = y, \\quad y(0) = 1. $$"
   ]
  },
  {
   "cell_type": "code",
   "execution_count": 6,
   "metadata": {
    "collapsed": false
   },
   "outputs": [],
   "source": [
    "def f2(t,y):\n",
    "    # Your code here\n",
    "    "
   ]
  },
  {
   "cell_type": "code",
   "execution_count": 21,
   "metadata": {
    "collapsed": false
   },
   "outputs": [
    {
     "ename": "SyntaxError",
     "evalue": "invalid syntax (<ipython-input-21-e78dc8a4d2ee>, line 3)",
     "output_type": "error",
     "traceback": [
      "\u001b[0;36m  File \u001b[0;32m\"<ipython-input-21-e78dc8a4d2ee>\"\u001b[0;36m, line \u001b[0;32m3\u001b[0m\n\u001b[0;31m    t, y = forwardEuler(f2,,,,)\u001b[0m\n\u001b[0m                           ^\u001b[0m\n\u001b[0;31mSyntaxError\u001b[0m\u001b[0;31m:\u001b[0m invalid syntax\n"
     ]
    }
   ],
   "source": [
    "# Your code here\n",
    "t, y = forwardEuler(f2,,,,)\n",
    "\n",
    "plt.plot(t,y)\n",
    "plt.legend()\n",
    "plt.xlabel('t')\n",
    "plt.ylabel('y')\n",
    "plt.show()"
   ]
  },
  {
   "cell_type": "markdown",
   "metadata": {},
   "source": [
    "Evaluate the value of $y$ when $ t = 0.02 $ when the time step is $ 0.01 $."
   ]
  },
  {
   "cell_type": "code",
   "execution_count": null,
   "metadata": {},
   "outputs": [],
   "source": []
  }
 ],
 "metadata": {
  "kernelspec": {
   "display_name": "Python 3",
   "language": "python",
   "name": "python3"
  },
  "language_info": {
   "codemirror_mode": {
    "name": "ipython",
    "version": 3
   },
   "file_extension": ".py",
   "mimetype": "text/x-python",
   "name": "python",
   "nbconvert_exporter": "python",
   "pygments_lexer": "ipython3",
   "version": "3.7.2"
  }
 },
 "nbformat": 4,
 "nbformat_minor": 2
}
