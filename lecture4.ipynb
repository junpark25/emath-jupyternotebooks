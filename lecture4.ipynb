{
 "cells": [
  {
   "cell_type": "markdown",
   "metadata": {},
   "source": [
    "# First-order Ordinary Differential Equations (ODEs)"
   ]
  },
  {
   "cell_type": "markdown",
   "metadata": {},
   "source": [
    "## Lecture 4"
   ]
  },
  {
   "cell_type": "markdown",
   "metadata": {},
   "source": [
    "#### 3.4 Linear ODEs\n",
    "This group of ODEs is most popular in applications.  Its general form is \n",
    "\n",
    "\\begin{equation*} \n",
    "a(x) y' + b(x) y = c(x)\n",
    "\\end{equation*}\n",
    "\n",
    "We call this homogeneous if $ c(x)=0 $ and non-homogeneous otherwise i.e., $ c (x) \\neq 0 $.  Note that this is a linear equation: there is no higher order terms in $y$ such as $ y^2 $ or $ {y'} ^ 3 $.  Divide the above equation by $ a(x) $ and let $ p(x) = \\frac{b(x) }{ a(x) } $, $ q(x) = \\frac{ c(x) }{ a(x) } $, we get\n",
    "\n",
    "\\begin{equation}\\label{eq:linear_st}\\tag{1}\n",
    "y ' + p(x) y = q(x)\n",
    "\\end{equation}\n",
    "\n",
    "which is called a standard linear form.  A solution of this ODE can be obtained by multiplying an integrating factor $ u(x) $,\n",
    "\n",
    "\\begin{equation*}\n",
    "y' u + p u y = q u\n",
    "\\end{equation*}\n",
    "\n",
    "and make the LHS in the form of $ (yu)' $.  By comparing $ (yu)' = y'u + yu' $ with the LHS of the previous equation, we obtain $ yu' = puy $ and thus\n",
    "\n",
    "\\begin{equation*}\n",
    "u' = pu\n",
    "\\end{equation*}\n",
    "\n",
    "of which the solution is $ u = C e ^{ \\int p(x) dx } $.  Since we are multiplying this with every term of \\eqref{eq:linear_st}, we can remove $C$ in the integrating factor.  The procedure for solving linear ODEs is as follows:\n",
    "1. Put it into a standard linear form\n",
    "2. Calculate integrating factor, $u = e ^{ \\int p(x) dx }  $\n",
    "3. Multiplying $u$ with every term in the ODE\n",
    "4. Integrate\n",
    "\n",
    "**Example.** Solve\n",
    "\\begin{equation*}\n",
    "\\frac{ dT }{ dt } = -k (T - T _e (t))\n",
    "\\end{equation*}\n",
    "\n",
    "_Solution._First, note that this is not separable. (Why?) Putting it into a standard linear form,\n",
    "\n",
    "\\begin{equation*}\n",
    "\\frac{ dT }{ dt } + k T = k T _e (t)\n",
    "\\end{equation*}\n",
    "\n",
    "Multiplying an integrating factor $ u = e ^{ \\int k dt } = e ^{ kt } $, we get\n",
    "\n",
    "\\begin{equation*}\n",
    "T' e ^{ kt }  + k T e ^{ kt } = k T _e (t) e ^{ kt } \n",
    "\\end{equation*}\n",
    "\n",
    "Now integrate this, but use a definite integral instead of an indefinite one,\n",
    "\n",
    "\\begin{equation*}\n",
    "\\int _0 ^t \\frac{ d }{ dt } (T e ^{ kt } ) dt = \\int _0 ^t k T _e (s) e ^{ ks } ds \n",
    "\\end{equation*}\n",
    "\n",
    "After some manipulation, we obtain\n",
    "\n",
    "\\begin{equation*}\n",
    "T(t) = k \\int _0 ^t T _e (s) e ^{ -k(t - s) } ds + T(0) e ^{ - kt }\n",
    "\\end{equation*}\n",
    "\n",
    "Note that the second term on the RHS goes to $0$ while the first term does not; we call the first term  **steady-state** and the second one **transient**.\n",
    "\n",
    "The last example can be considered as a model for an input-response relation.  The solution represents how a system (e.g., temperature of a house) responses as input (external temperature) varies.  It is worth while to note that this is what most engineers need to know about a system of interest.\n",
    "\n",
    "**Exercise.** Solve\n",
    "$$\n",
    "xy' + 2y = 4 x ^2\n",
    "$$\n",
    "\n",
    "**Exercise.** Solve\n",
    "\\begin{equation*}\n",
    "(1 + \\cos x ) y' - \\sin {xy} = 2x\n",
    "\\end{equation*}"
   ]
  },
  {
   "cell_type": "code",
   "execution_count": null,
   "metadata": {},
   "outputs": [],
   "source": []
  }
 ],
 "metadata": {
  "kernelspec": {
   "display_name": "Python 3",
   "language": "python",
   "name": "python3"
  },
  "language_info": {
   "codemirror_mode": {
    "name": "ipython",
    "version": 3
   },
   "file_extension": ".py",
   "mimetype": "text/x-python",
   "name": "python",
   "nbconvert_exporter": "python",
   "pygments_lexer": "ipython3",
   "version": "3.7.2"
  }
 },
 "nbformat": 4,
 "nbformat_minor": 2
}
