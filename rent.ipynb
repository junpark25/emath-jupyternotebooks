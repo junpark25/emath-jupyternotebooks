{
 "cells": [
  {
   "cell_type": "code",
   "execution_count": 19,
   "metadata": {},
   "outputs": [
    {
     "name": "stdout",
     "output_type": "stream",
     "text": [
      "Rent of the room = 39.63\n"
     ]
    }
   ],
   "source": [
    "import numpy as np\n",
    "\n",
    "# A matrix\n",
    "A = np.array([[1,33,500,3,2],[1,30,300,2,3],[1,33,500,1,1],[1,40,500,1,2],[1,25,500,2,5],[1,26,1000,3,4]])\n",
    "\n",
    "# vector b as a column vector\n",
    "b = np.transpose(np.array([33,35,32,43,35,30]))\n",
    "\n",
    "# Calculate x_hat using the normal equation\n",
    "At = np.transpose(A)\n",
    "x = np.linalg.inv(At @ A) @ At @ b  # @ is used to multiply matrices\n",
    "\n",
    "# A x_hat\n",
    "rent = np.array([1,37,500,4,3]) @ x\n",
    "print(\"Rent of the room = {:3.2f}\".format(rent))"
   ]
  },
  {
   "cell_type": "code",
   "execution_count": null,
   "metadata": {},
   "outputs": [],
   "source": []
  }
 ],
 "metadata": {
  "kernelspec": {
   "display_name": "Python 3",
   "language": "python",
   "name": "python3"
  },
  "language_info": {
   "codemirror_mode": {
    "name": "ipython",
    "version": 3
   },
   "file_extension": ".py",
   "mimetype": "text/x-python",
   "name": "python",
   "nbconvert_exporter": "python",
   "pygments_lexer": "ipython3",
   "version": "3.7.2"
  }
 },
 "nbformat": 4,
 "nbformat_minor": 4
}
